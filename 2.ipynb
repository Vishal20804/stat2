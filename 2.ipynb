{
 "cells": [
  {
   "cell_type": "code",
   "execution_count": null,
   "id": "8aff5af6-47d7-4554-bc2d-988ac7ed3370",
   "metadata": {},
   "outputs": [],
   "source": [
    "ans:1\n",
    "\n",
    "The three measures of central tendency are:\n",
    "\n",
    "Mean: The mean is calculated by summing up all the values in a dataset and dividing the sum by the total number of values. It represents the average value of the dataset and is affected by extreme values.\n",
    "\n",
    "Median: The median is the middle value in a dataset when it is arranged in ascending or descending order. If the dataset has an odd number of values, the median is the middle value. If the dataset has an even number of values, the median is the average of the two middle values. The median is less affected by extreme values compared to the mean.\n",
    "\n",
    "Mode: The mode is the value or values that occur most frequently in a dataset. In other words, it is the value(s) with the highest frequency. A dataset can have one mode (unimodal), two modes (bimodal), or more than two modes (multimodal). Unlike the mean and median, the mode can be applied to both numerical and categorical data.\n"
   ]
  },
  {
   "cell_type": "code",
   "execution_count": null,
   "id": "475c01e8-aa2c-410d-ba4e-65a5f026a887",
   "metadata": {},
   "outputs": [],
   "source": [
    "Ans:2\n",
    " the mean provides the average value, the median represents the middle value, and the mode identifies the most common value(s). The choice of which measure to use depends on the distribution and characteristics of the dataset, as well as the research question or context.\n"
   ]
  },
  {
   "cell_type": "code",
   "execution_count": null,
   "id": "cbe6917c-1351-4600-9b6a-a4d4703ddb0e",
   "metadata": {},
   "outputs": [],
   "source": [
    "Ans:3\n",
    "Mean height: Approximately 177.21\n",
    "Median height: 177\n",
    "Mode(s) for height: 177 and 178\n"
   ]
  },
  {
   "cell_type": "code",
   "execution_count": null,
   "id": "d923dd59-cf08-4de5-ae28-751ac3939ea7",
   "metadata": {},
   "outputs": [],
   "source": [
    "Ans:4\n",
    "(178 - 177.21)^2 = 0.0641\n",
    "(177 - 177.21)^2 = 0.0441\n",
    "(176 - 177.21)^2 = 1.4641\n",
    "(177 - 177.21)^2 = 0.0441\n",
    "(178.2 - 177.21)^2 = 0.0964\n",
    "(178 - 177.21)^2 = 0.0484\n",
    "(175 - 177.21)^2 = 4.9441\n",
    "(179 - 177.21)^2 = 3.1841\n",
    "(180 - 177.21)^2 = 7.5841\n",
    "(175 - 177.21)^2 = 4.9441\n",
    "(178.9 - 177.21)^2 = 2.8561\n",
    "(176.2 - 177.21)^2 = 1.0401\n",
    "(177 - 177.21)^2 = 0.0441\n",
    "(172.5 - 177.21)^2 = 22.2401\n",
    "(178 - 177.21)^2 = 0.0484\n",
    "(176.5 - 177.21)^2 = 0.5184\n",
    "\n",
    "Sum of squared differences = 49.2402\n",
    "\n",
    "Standard deviation = √(Sum of squared differences / Total number of data points) = √(49.2402 / 16) ≈ 1.755"
   ]
  },
  {
   "cell_type": "code",
   "execution_count": null,
   "id": "c00d910d-0c51-4df8-bdb2-775ce119e40b",
   "metadata": {},
   "outputs": [],
   "source": [
    "Ans:5\n",
    "\n",
    "Measures of dispersion, such as range, variance, and standard deviation, are used to describe the spread or variability of a dataset. They provide information about how the data points are distributed around the central tendency measures (mean, median, mode) and help to understand the extent to which the data deviates from the average."
   ]
  },
  {
   "cell_type": "code",
   "execution_count": null,
   "id": "9fb4cbcb-f07f-47fd-97f5-b14d37befcaf",
   "metadata": {},
   "outputs": [],
   "source": [
    "Ans:6\n",
    "\n",
    "A Venn diagram is a visual representation that uses overlapping circles or other shapes to illustrate the relationships between different sets, groups, or categories of items. It was introduced by the mathematician John Venn in the late 19th century and has since become a widely used tool in various fields, including mathematics, logic, statistics, and problem-solving."
   ]
  },
  {
   "cell_type": "code",
   "execution_count": null,
   "id": "bc4bb829-86f1-43c3-894e-6a8827d49666",
   "metadata": {},
   "outputs": [],
   "source": [
    "Ans:7\n",
    "\n",
    "(i) A ∩ B = {2, 6}\n",
    "(ii) A ∪ B = {0, 2, 3, 4, 5, 6, 7, 8, 10}"
   ]
  },
  {
   "cell_type": "code",
   "execution_count": null,
   "id": "b7fe2c9a-d57b-43a7-8dda-18bd0368b0f1",
   "metadata": {},
   "outputs": [],
   "source": [
    "Ans:8\n",
    "\n",
    "Skewness is a statistical measure that describes the asymmetry or lack of symmetry in the distribution of a dataset. It quantifies the extent to which the values in a dataset are concentrated more on one side of the distribution compared to the other.\n",
    "\n",
    "There are three main types of skewness:\n",
    "\n",
    "Positive Skewness (Right-skewed): In a positively skewed distribution, the tail of the distribution extends towards the higher values. This means that the majority of the values are concentrated towards the lower end of the distribution, while the higher values are more spread out. The mean is typically greater than the median in a positively skewed distribution.\n",
    "\n",
    "Negative Skewness (Left-skewed): In a negatively skewed distribution, the tail of the distribution extends towards the lower values. This means that the majority of the values are concentrated towards the higher end of the distribution, while the lower values are more spread out. The mean is typically less than the median in a negatively skewed distribution.\n",
    "\n",
    "Zero Skewness (Symmetric): In a symmetric distribution, the values are evenly distributed around the mean, and the distribution is balanced. The mean is equal to the median in a symmetric distribution"
   ]
  },
  {
   "cell_type": "code",
   "execution_count": null,
   "id": "16607073-3d57-450c-8407-e5edb6656f98",
   "metadata": {},
   "outputs": [],
   "source": [
    "Ans:9\n",
    "\n",
    "In a right-skewed distribution, where the tail of the distribution extends towards higher values, the median will typically be less than the mean.\n",
    "\n",
    "To understand this relationship, let's consider the characteristics of a right-skewed distribution:\n",
    "\n",
    "Majority of values on the left: In a right-skewed distribution, the majority of values are concentrated towards the lower end of the distribution, with relatively fewer values on the higher end. The tail of the distribution extends towards the higher values.\n",
    "\n",
    "Outliers on the right: Right-skewed distributions often have a few extremely high values or outliers that pull the mean towards the right. These outliers can significantly increase the mean value."
   ]
  }
 ],
 "metadata": {
  "kernelspec": {
   "display_name": "Python 3 (ipykernel)",
   "language": "python",
   "name": "python3"
  },
  "language_info": {
   "codemirror_mode": {
    "name": "ipython",
    "version": 3
   },
   "file_extension": ".py",
   "mimetype": "text/x-python",
   "name": "python",
   "nbconvert_exporter": "python",
   "pygments_lexer": "ipython3",
   "version": "3.10.8"
  }
 },
 "nbformat": 4,
 "nbformat_minor": 5
}
